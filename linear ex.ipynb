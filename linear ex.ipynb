{
 "cells": [
  {
   "cell_type": "markdown",
   "metadata": {},
   "source": [
    "# importing the libraries"
   ]
  },
  {
   "cell_type": "code",
   "execution_count": 91,
   "metadata": {},
   "outputs": [],
   "source": [
    "import numpy as np\n",
    "import pandas as pd\n",
    "import matplotlib.pyplot as plt\n",
    "import seaborn as sns\n",
    "%matplotlib inline"
   ]
  },
  {
   "cell_type": "markdown",
   "metadata": {},
   "source": [
    "# load the file"
   ]
  },
  {
   "cell_type": "code",
   "execution_count": 92,
   "metadata": {},
   "outputs": [
    {
     "data": {
      "text/html": [
       "<div>\n",
       "<style scoped>\n",
       "    .dataframe tbody tr th:only-of-type {\n",
       "        vertical-align: middle;\n",
       "    }\n",
       "\n",
       "    .dataframe tbody tr th {\n",
       "        vertical-align: top;\n",
       "    }\n",
       "\n",
       "    .dataframe thead th {\n",
       "        text-align: right;\n",
       "    }\n",
       "</style>\n",
       "<table border=\"1\" class=\"dataframe\">\n",
       "  <thead>\n",
       "    <tr style=\"text-align: right;\">\n",
       "      <th></th>\n",
       "      <th>R&amp;D Spend</th>\n",
       "      <th>Administration</th>\n",
       "      <th>Marketing Spend</th>\n",
       "      <th>State</th>\n",
       "      <th>Profit</th>\n",
       "    </tr>\n",
       "  </thead>\n",
       "  <tbody>\n",
       "    <tr>\n",
       "      <td>0</td>\n",
       "      <td>165349.20</td>\n",
       "      <td>136897.80</td>\n",
       "      <td>471784.10</td>\n",
       "      <td>New York</td>\n",
       "      <td>192261.83</td>\n",
       "    </tr>\n",
       "    <tr>\n",
       "      <td>1</td>\n",
       "      <td>162597.70</td>\n",
       "      <td>151377.59</td>\n",
       "      <td>443898.53</td>\n",
       "      <td>California</td>\n",
       "      <td>191792.06</td>\n",
       "    </tr>\n",
       "    <tr>\n",
       "      <td>2</td>\n",
       "      <td>153441.51</td>\n",
       "      <td>101145.55</td>\n",
       "      <td>407934.54</td>\n",
       "      <td>Florida</td>\n",
       "      <td>191050.39</td>\n",
       "    </tr>\n",
       "    <tr>\n",
       "      <td>3</td>\n",
       "      <td>144372.41</td>\n",
       "      <td>118671.85</td>\n",
       "      <td>383199.62</td>\n",
       "      <td>New York</td>\n",
       "      <td>182901.99</td>\n",
       "    </tr>\n",
       "    <tr>\n",
       "      <td>4</td>\n",
       "      <td>142107.34</td>\n",
       "      <td>91391.77</td>\n",
       "      <td>366168.42</td>\n",
       "      <td>Florida</td>\n",
       "      <td>166187.94</td>\n",
       "    </tr>\n",
       "  </tbody>\n",
       "</table>\n",
       "</div>"
      ],
      "text/plain": [
       "   R&D Spend  Administration  Marketing Spend       State     Profit\n",
       "0  165349.20       136897.80        471784.10    New York  192261.83\n",
       "1  162597.70       151377.59        443898.53  California  191792.06\n",
       "2  153441.51       101145.55        407934.54     Florida  191050.39\n",
       "3  144372.41       118671.85        383199.62    New York  182901.99\n",
       "4  142107.34        91391.77        366168.42     Florida  166187.94"
      ]
     },
     "execution_count": 92,
     "metadata": {},
     "output_type": "execute_result"
    }
   ],
   "source": [
    "df=pd.read_csv(\"C:/Users/Dell/Desktop/1000_Companies.csv\")\n",
    "df.head()"
   ]
  },
  {
   "cell_type": "code",
   "execution_count": 93,
   "metadata": {},
   "outputs": [
    {
     "data": {
      "text/html": [
       "<div>\n",
       "<style scoped>\n",
       "    .dataframe tbody tr th:only-of-type {\n",
       "        vertical-align: middle;\n",
       "    }\n",
       "\n",
       "    .dataframe tbody tr th {\n",
       "        vertical-align: top;\n",
       "    }\n",
       "\n",
       "    .dataframe thead th {\n",
       "        text-align: right;\n",
       "    }\n",
       "</style>\n",
       "<table border=\"1\" class=\"dataframe\">\n",
       "  <thead>\n",
       "    <tr style=\"text-align: right;\">\n",
       "      <th></th>\n",
       "      <th>R&amp;D Spend</th>\n",
       "      <th>Administration</th>\n",
       "      <th>Marketing Spend</th>\n",
       "      <th>Profit</th>\n",
       "    </tr>\n",
       "  </thead>\n",
       "  <tbody>\n",
       "    <tr>\n",
       "      <td>count</td>\n",
       "      <td>1000.000000</td>\n",
       "      <td>1000.000000</td>\n",
       "      <td>1000.000000</td>\n",
       "      <td>1000.000000</td>\n",
       "    </tr>\n",
       "    <tr>\n",
       "      <td>mean</td>\n",
       "      <td>81668.927200</td>\n",
       "      <td>122963.897612</td>\n",
       "      <td>226205.058419</td>\n",
       "      <td>119546.164656</td>\n",
       "    </tr>\n",
       "    <tr>\n",
       "      <td>std</td>\n",
       "      <td>46537.567891</td>\n",
       "      <td>12613.927535</td>\n",
       "      <td>91578.393542</td>\n",
       "      <td>42888.633848</td>\n",
       "    </tr>\n",
       "    <tr>\n",
       "      <td>min</td>\n",
       "      <td>0.000000</td>\n",
       "      <td>51283.140000</td>\n",
       "      <td>0.000000</td>\n",
       "      <td>14681.400000</td>\n",
       "    </tr>\n",
       "    <tr>\n",
       "      <td>25%</td>\n",
       "      <td>43084.500000</td>\n",
       "      <td>116640.684850</td>\n",
       "      <td>150969.584600</td>\n",
       "      <td>85943.198543</td>\n",
       "    </tr>\n",
       "    <tr>\n",
       "      <td>50%</td>\n",
       "      <td>79936.000000</td>\n",
       "      <td>122421.612150</td>\n",
       "      <td>224517.887350</td>\n",
       "      <td>117641.466300</td>\n",
       "    </tr>\n",
       "    <tr>\n",
       "      <td>75%</td>\n",
       "      <td>124565.500000</td>\n",
       "      <td>129139.118000</td>\n",
       "      <td>308189.808525</td>\n",
       "      <td>155577.107425</td>\n",
       "    </tr>\n",
       "    <tr>\n",
       "      <td>max</td>\n",
       "      <td>165349.200000</td>\n",
       "      <td>321652.140000</td>\n",
       "      <td>471784.100000</td>\n",
       "      <td>476485.430000</td>\n",
       "    </tr>\n",
       "  </tbody>\n",
       "</table>\n",
       "</div>"
      ],
      "text/plain": [
       "           R&D Spend  Administration  Marketing Spend         Profit\n",
       "count    1000.000000     1000.000000      1000.000000    1000.000000\n",
       "mean    81668.927200   122963.897612    226205.058419  119546.164656\n",
       "std     46537.567891    12613.927535     91578.393542   42888.633848\n",
       "min         0.000000    51283.140000         0.000000   14681.400000\n",
       "25%     43084.500000   116640.684850    150969.584600   85943.198543\n",
       "50%     79936.000000   122421.612150    224517.887350  117641.466300\n",
       "75%    124565.500000   129139.118000    308189.808525  155577.107425\n",
       "max    165349.200000   321652.140000    471784.100000  476485.430000"
      ]
     },
     "execution_count": 93,
     "metadata": {},
     "output_type": "execute_result"
    }
   ],
   "source": [
    "df.describe()"
   ]
  },
  {
   "cell_type": "code",
   "execution_count": 94,
   "metadata": {},
   "outputs": [
    {
     "data": {
      "text/plain": [
       "5000"
      ]
     },
     "execution_count": 94,
     "metadata": {},
     "output_type": "execute_result"
    }
   ],
   "source": [
    "df.size"
   ]
  },
  {
   "cell_type": "code",
   "execution_count": 95,
   "metadata": {},
   "outputs": [
    {
     "data": {
      "text/plain": [
       "(1000, 5)"
      ]
     },
     "execution_count": 95,
     "metadata": {},
     "output_type": "execute_result"
    }
   ],
   "source": [
    "df.shape"
   ]
  },
  {
   "cell_type": "code",
   "execution_count": 96,
   "metadata": {},
   "outputs": [
    {
     "data": {
      "text/plain": [
       "0      False\n",
       "1      False\n",
       "2      False\n",
       "3      False\n",
       "4      False\n",
       "       ...  \n",
       "995    False\n",
       "996    False\n",
       "997    False\n",
       "998    False\n",
       "999    False\n",
       "Length: 1000, dtype: bool"
      ]
     },
     "execution_count": 96,
     "metadata": {},
     "output_type": "execute_result"
    }
   ],
   "source": [
    "df.duplicated().isnull()"
   ]
  },
  {
   "cell_type": "code",
   "execution_count": 97,
   "metadata": {},
   "outputs": [
    {
     "data": {
      "text/html": [
       "<div>\n",
       "<style scoped>\n",
       "    .dataframe tbody tr th:only-of-type {\n",
       "        vertical-align: middle;\n",
       "    }\n",
       "\n",
       "    .dataframe tbody tr th {\n",
       "        vertical-align: top;\n",
       "    }\n",
       "\n",
       "    .dataframe thead th {\n",
       "        text-align: right;\n",
       "    }\n",
       "</style>\n",
       "<table border=\"1\" class=\"dataframe\">\n",
       "  <thead>\n",
       "    <tr style=\"text-align: right;\">\n",
       "      <th></th>\n",
       "      <th>R&amp;D Spend</th>\n",
       "      <th>Administration</th>\n",
       "      <th>Marketing Spend</th>\n",
       "      <th>State</th>\n",
       "      <th>Profit</th>\n",
       "    </tr>\n",
       "  </thead>\n",
       "  <tbody>\n",
       "    <tr>\n",
       "      <td>0</td>\n",
       "      <td>165349.20</td>\n",
       "      <td>136897.800</td>\n",
       "      <td>471784.1000</td>\n",
       "      <td>New York</td>\n",
       "      <td>192261.83000</td>\n",
       "    </tr>\n",
       "    <tr>\n",
       "      <td>1</td>\n",
       "      <td>162597.70</td>\n",
       "      <td>151377.590</td>\n",
       "      <td>443898.5300</td>\n",
       "      <td>California</td>\n",
       "      <td>191792.06000</td>\n",
       "    </tr>\n",
       "    <tr>\n",
       "      <td>2</td>\n",
       "      <td>153441.51</td>\n",
       "      <td>101145.550</td>\n",
       "      <td>407934.5400</td>\n",
       "      <td>Florida</td>\n",
       "      <td>191050.39000</td>\n",
       "    </tr>\n",
       "    <tr>\n",
       "      <td>3</td>\n",
       "      <td>144372.41</td>\n",
       "      <td>118671.850</td>\n",
       "      <td>383199.6200</td>\n",
       "      <td>New York</td>\n",
       "      <td>182901.99000</td>\n",
       "    </tr>\n",
       "    <tr>\n",
       "      <td>4</td>\n",
       "      <td>142107.34</td>\n",
       "      <td>91391.770</td>\n",
       "      <td>366168.4200</td>\n",
       "      <td>Florida</td>\n",
       "      <td>166187.94000</td>\n",
       "    </tr>\n",
       "    <tr>\n",
       "      <td>...</td>\n",
       "      <td>...</td>\n",
       "      <td>...</td>\n",
       "      <td>...</td>\n",
       "      <td>...</td>\n",
       "      <td>...</td>\n",
       "    </tr>\n",
       "    <tr>\n",
       "      <td>995</td>\n",
       "      <td>54135.00</td>\n",
       "      <td>118451.999</td>\n",
       "      <td>173232.6695</td>\n",
       "      <td>California</td>\n",
       "      <td>95279.96251</td>\n",
       "    </tr>\n",
       "    <tr>\n",
       "      <td>996</td>\n",
       "      <td>134970.00</td>\n",
       "      <td>130390.080</td>\n",
       "      <td>329204.0228</td>\n",
       "      <td>California</td>\n",
       "      <td>164336.60550</td>\n",
       "    </tr>\n",
       "    <tr>\n",
       "      <td>997</td>\n",
       "      <td>100275.47</td>\n",
       "      <td>241926.310</td>\n",
       "      <td>227142.8200</td>\n",
       "      <td>California</td>\n",
       "      <td>413956.48000</td>\n",
       "    </tr>\n",
       "    <tr>\n",
       "      <td>998</td>\n",
       "      <td>128456.23</td>\n",
       "      <td>321652.140</td>\n",
       "      <td>281692.3200</td>\n",
       "      <td>California</td>\n",
       "      <td>333962.19000</td>\n",
       "    </tr>\n",
       "    <tr>\n",
       "      <td>999</td>\n",
       "      <td>161181.72</td>\n",
       "      <td>270939.860</td>\n",
       "      <td>295442.1700</td>\n",
       "      <td>New York</td>\n",
       "      <td>476485.43000</td>\n",
       "    </tr>\n",
       "  </tbody>\n",
       "</table>\n",
       "<p>1000 rows × 5 columns</p>\n",
       "</div>"
      ],
      "text/plain": [
       "     R&D Spend  Administration  Marketing Spend       State        Profit\n",
       "0    165349.20      136897.800      471784.1000    New York  192261.83000\n",
       "1    162597.70      151377.590      443898.5300  California  191792.06000\n",
       "2    153441.51      101145.550      407934.5400     Florida  191050.39000\n",
       "3    144372.41      118671.850      383199.6200    New York  182901.99000\n",
       "4    142107.34       91391.770      366168.4200     Florida  166187.94000\n",
       "..         ...             ...              ...         ...           ...\n",
       "995   54135.00      118451.999      173232.6695  California   95279.96251\n",
       "996  134970.00      130390.080      329204.0228  California  164336.60550\n",
       "997  100275.47      241926.310      227142.8200  California  413956.48000\n",
       "998  128456.23      321652.140      281692.3200  California  333962.19000\n",
       "999  161181.72      270939.860      295442.1700    New York  476485.43000\n",
       "\n",
       "[1000 rows x 5 columns]"
      ]
     },
     "execution_count": 97,
     "metadata": {},
     "output_type": "execute_result"
    }
   ],
   "source": [
    "df1=df.dropna()\n",
    "df1"
   ]
  },
  {
   "cell_type": "code",
   "execution_count": 98,
   "metadata": {},
   "outputs": [
    {
     "data": {
      "text/html": [
       "<div>\n",
       "<style scoped>\n",
       "    .dataframe tbody tr th:only-of-type {\n",
       "        vertical-align: middle;\n",
       "    }\n",
       "\n",
       "    .dataframe tbody tr th {\n",
       "        vertical-align: top;\n",
       "    }\n",
       "\n",
       "    .dataframe thead th {\n",
       "        text-align: right;\n",
       "    }\n",
       "</style>\n",
       "<table border=\"1\" class=\"dataframe\">\n",
       "  <thead>\n",
       "    <tr style=\"text-align: right;\">\n",
       "      <th></th>\n",
       "      <th>R&amp;D Spend</th>\n",
       "      <th>Administration</th>\n",
       "      <th>Marketing Spend</th>\n",
       "      <th>State</th>\n",
       "      <th>Profit</th>\n",
       "    </tr>\n",
       "  </thead>\n",
       "  <tbody>\n",
       "    <tr>\n",
       "      <td>0</td>\n",
       "      <td>165349.20</td>\n",
       "      <td>136897.80</td>\n",
       "      <td>471784.10</td>\n",
       "      <td>New York</td>\n",
       "      <td>192261.83</td>\n",
       "    </tr>\n",
       "    <tr>\n",
       "      <td>1</td>\n",
       "      <td>162597.70</td>\n",
       "      <td>151377.59</td>\n",
       "      <td>443898.53</td>\n",
       "      <td>California</td>\n",
       "      <td>191792.06</td>\n",
       "    </tr>\n",
       "    <tr>\n",
       "      <td>2</td>\n",
       "      <td>153441.51</td>\n",
       "      <td>101145.55</td>\n",
       "      <td>407934.54</td>\n",
       "      <td>Florida</td>\n",
       "      <td>191050.39</td>\n",
       "    </tr>\n",
       "    <tr>\n",
       "      <td>3</td>\n",
       "      <td>144372.41</td>\n",
       "      <td>118671.85</td>\n",
       "      <td>383199.62</td>\n",
       "      <td>New York</td>\n",
       "      <td>182901.99</td>\n",
       "    </tr>\n",
       "    <tr>\n",
       "      <td>4</td>\n",
       "      <td>142107.34</td>\n",
       "      <td>91391.77</td>\n",
       "      <td>366168.42</td>\n",
       "      <td>Florida</td>\n",
       "      <td>166187.94</td>\n",
       "    </tr>\n",
       "  </tbody>\n",
       "</table>\n",
       "</div>"
      ],
      "text/plain": [
       "   R&D Spend  Administration  Marketing Spend       State     Profit\n",
       "0  165349.20       136897.80        471784.10    New York  192261.83\n",
       "1  162597.70       151377.59        443898.53  California  191792.06\n",
       "2  153441.51       101145.55        407934.54     Florida  191050.39\n",
       "3  144372.41       118671.85        383199.62    New York  182901.99\n",
       "4  142107.34        91391.77        366168.42     Florida  166187.94"
      ]
     },
     "execution_count": 98,
     "metadata": {},
     "output_type": "execute_result"
    }
   ],
   "source": [
    "df1.head()"
   ]
  },
  {
   "cell_type": "code",
   "execution_count": 100,
   "metadata": {},
   "outputs": [],
   "source": [
    "X=df1.iloc[:,:-1].values\n",
    "y=df1.iloc[:,4].values"
   ]
  },
  {
   "cell_type": "code",
   "execution_count": 101,
   "metadata": {},
   "outputs": [
    {
     "data": {
      "text/plain": [
       "<matplotlib.axes._subplots.AxesSubplot at 0x2020f78f848>"
      ]
     },
     "execution_count": 101,
     "metadata": {},
     "output_type": "execute_result"
    },
    {
     "data": {
      "image/png": "[encoded data removed]",
      "text/plain": [
       "<Figure size 432x288 with 2 Axes>"
      ]
     },
     "metadata": {
      "needs_background": "light"
     },
     "output_type": "display_data"
    }
   ],
   "source": [
    "#Data visualization\n",
    "#Building the correlation matrix\n",
    "sns.heatmap(df1.corr())"
   ]
  },
  {
   "cell_type": "code",
   "execution_count": 102,
   "metadata": {},
   "outputs": [],
   "source": [
    "# Encoding categorical data\n",
    "from sklearn.preprocessing import LabelEncoder, OneHotEncoder\n",
    "le=LabelEncoder()\n",
    "X[:,3]=le.fit_transform(X[:,3])\n",
    "oh=OneHotEncoder(categorical_features=[3])\n",
    "X=oh.fit_transform(X).toarray()"
   ]
  },
  {
   "cell_type": "code",
   "execution_count": 103,
   "metadata": {},
   "outputs": [],
   "source": [
    "# remove the warnings\n",
    "import warnings\n",
    "warnings.filterwarnings('ignore')"
   ]
  },
  {
   "cell_type": "code",
   "execution_count": 104,
   "metadata": {},
   "outputs": [
    {
     "data": {
      "text/plain": [
       "array([0.000000e+00, 0.000000e+00, 1.000000e+00, 1.653492e+05,\n",
       "       1.368978e+05, 4.717841e+05])"
      ]
     },
     "execution_count": 104,
     "metadata": {},
     "output_type": "execute_result"
    }
   ],
   "source": [
    "X[0]"
   ]
  },
  {
   "cell_type": "code",
   "execution_count": 105,
   "metadata": {},
   "outputs": [],
   "source": [
    "#Avoiding the dummy variable trap\n",
    "X=X[:,1:]"
   ]
  },
  {
   "cell_type": "code",
   "execution_count": 106,
   "metadata": {},
   "outputs": [],
   "source": [
    "#splliting the data into training and testing\n",
    "from sklearn.model_selection import train_test_split\n",
    "X_train,X_test,y_train,y_test=train_test_split(X,y,test_size=0.25,random_state=0)"
   ]
  },
  {
   "cell_type": "code",
   "execution_count": 107,
   "metadata": {},
   "outputs": [
    {
     "data": {
      "text/plain": [
       "array([[1.00000000e+00, 0.00000000e+00, 1.79290000e+04, 1.13104932e+05,\n",
       "        1.03373094e+05],\n",
       "       [1.00000000e+00, 0.00000000e+00, 1.19770000e+04, 1.12225913e+05,\n",
       "        9.18886934e+04],\n",
       "       [0.00000000e+00, 1.00000000e+00, 1.06761000e+05, 1.26224046e+05,\n",
       "        2.74774680e+05],\n",
       "       ...,\n",
       "       [0.00000000e+00, 0.00000000e+00, 2.28760000e+04, 1.13835527e+05,\n",
       "        1.12918344e+05],\n",
       "       [0.00000000e+00, 0.00000000e+00, 6.67660000e+04, 1.20317403e+05,\n",
       "        1.97604218e+05],\n",
       "       [0.00000000e+00, 0.00000000e+00, 1.12108000e+05, 1.27013716e+05,\n",
       "        2.85091731e+05]])"
      ]
     },
     "execution_count": 107,
     "metadata": {},
     "output_type": "execute_result"
    }
   ],
   "source": [
    "X_train"
   ]
  },
  {
   "cell_type": "code",
   "execution_count": 108,
   "metadata": {},
   "outputs": [
    {
     "data": {
      "text/plain": [
       "array([[0.00000000e+00, 0.00000000e+00, 4.67980000e+04, 1.17368437e+05,\n",
       "        1.59075908e+05],\n",
       "       [0.00000000e+00, 0.00000000e+00, 4.52090000e+04, 1.17133767e+05,\n",
       "        1.56009928e+05],\n",
       "       [0.00000000e+00, 0.00000000e+00, 5.27460000e+04, 1.18246865e+05,\n",
       "        1.70552590e+05],\n",
       "       ...,\n",
       "       [1.00000000e+00, 0.00000000e+00, 1.53441510e+05, 1.01145550e+05,\n",
       "        4.07934540e+05],\n",
       "       [0.00000000e+00, 1.00000000e+00, 2.13620000e+04, 1.13611933e+05,\n",
       "        1.09997076e+05],\n",
       "       [0.00000000e+00, 0.00000000e+00, 1.33587000e+05, 1.30185832e+05,\n",
       "        3.26535520e+05]])"
      ]
     },
     "execution_count": 108,
     "metadata": {},
     "output_type": "execute_result"
    }
   ],
   "source": [
    "X_test"
   ]
  },
  {
   "cell_type": "code",
   "execution_count": 85,
   "metadata": {},
   "outputs": [
    {
     "data": {
      "text/plain": [
       "array([ 64349.48913,  59264.74689, 140237.9002 ,  62223.15791,\n",
       "        60947.70089, 128977.4856 , 167373.6113 , 120790.8114 ,\n",
       "        65743.69265,  81229.06   , 146690.3629 , 177513.1956 ,\n",
       "       174996.4532 , 138079.1059 ,  76356.55435, 180257.1795 ,\n",
       "       104862.5488 , 102274.046  , 172384.0302 , 128937.3339 ,\n",
       "       144287.2413 , 120617.3903 , 123485.2464 , 105674.9799 ,\n",
       "        74208.01155, 110363.331  ,  80859.52417, 151804.1511 ,\n",
       "       126117.3181 ,  65814.59883,  77362.05529,  92289.08842,\n",
       "       156147.3684 , 144184.7263 , 164330.6254 ,  81005.76   ,\n",
       "        99201.1599 , 159173.2684 , 141472.3512 ,  89915.86699,\n",
       "        98776.57709, 169661.4036 , 181441.2273 , 140251.5689 ,\n",
       "       158565.8673 , 142289.0538 , 333962.19   , 138855.6568 ,\n",
       "       143333.8521 , 146121.95   ,  87218.86913,  94409.4396 ,\n",
       "        77242.4545 , 105740.7603 , 126436.8231 , 102833.6068 ,\n",
       "       170465.2918 ,  63978.72668,  73154.67029, 167391.5514 ,\n",
       "        91623.59544, 151891.2888 ,  54971.93275, 118474.03   ,\n",
       "       176018.1857 ,  51913.56964, 156182.3943 ,  73733.02555,\n",
       "       144515.3371 ,  14681.4    , 106401.1276 , 103171.0519 ,\n",
       "        52481.67341, 114806.5004 ,  91977.27207, 162733.9549 ,\n",
       "        35673.41   ,  65664.24355, 110023.323  , 168246.6971 ,\n",
       "       140589.8682 , 132897.8287 ,  59328.81874,  79170.59013,\n",
       "       125867.0108 , 157325.4362 ,  50116.99489, 103404.2734 ,\n",
       "        58666.74293, 161630.2104 ,  76017.40068, 184887.4387 ,\n",
       "        73896.1952 , 141585.52   , 169572.5573 , 154351.6479 ,\n",
       "       138793.2935 ,  49490.75   , 163883.8311 , 182876.4368 ,\n",
       "       104723.2993 , 128060.831  , 145711.345  , 172495.0881 ,\n",
       "       109877.2392 , 154173.101  , 169623.8148 , 159247.5918 ,\n",
       "       156488.2307 , 108421.5267 ,  91240.87291, 125370.37   ,\n",
       "        63814.70273, 126997.2382 , 116529.6061 , 159509.0049 ,\n",
       "       111814.772  , 100435.6109 ,  66656.07583,  51256.61958,\n",
       "        54932.63535, 111138.1732 ,  67199.40514,  57143.54142,\n",
       "       136845.5092 , 160935.6715 , 164424.5975 ,  56775.34184,\n",
       "        96793.76682,  73577.54452, 124269.4859 , 144750.2672 ,\n",
       "        88648.95289,  77627.73991, 169564.8687 , 106235.395  ,\n",
       "       116205.8296 , 161123.6156 , 111313.02   , 173519.3834 ,\n",
       "       159431.2644 , 140872.6387 ,  51336.06868, 184581.6024 ,\n",
       "        96479.51   ,  72607.06952, 119743.4502 ,  73790.26307,\n",
       "        74324.19518, 158961.4042 ,  79808.74578,  68872.96194,\n",
       "        76545.35274, 152134.7618 ,  77667.8916 ,  60408.64304,\n",
       "       115980.2967 ,  68648.28331, 100992.6089 , 170464.4375 ,\n",
       "       173531.3435 , 154765.9792 , 128337.6214 , 103378.6447 ,\n",
       "       145680.5905 , 171651.9025 , 142490.6665 , 166402.282  ,\n",
       "        52325.33808, 181391.6784 ,  94294.11026,  55195.75709,\n",
       "        91790.18226, 166902.0425 ,  85529.93509,  80066.74177,\n",
       "       159389.4041 , 105582.7164 , 155881.6838 ,  57541.6412 ,\n",
       "        83178.92524,  86613.17655,  68669.64059, 180378.4888 ,\n",
       "        98444.25774,  68160.48294, 148944.8378 ,  86313.32028,\n",
       "       130427.2181 , 184865.2271 , 133834.1321 , 178296.5808 ,\n",
       "       104231.2275 , 149792.2949 ,  86636.24242, 177442.2894 ,\n",
       "       113472.9515 , 121927.8732 , 160667.424  , 111643.0594 ,\n",
       "       103903.1796 , 113444.7599 , 160000.2225 ,  82522.82946,\n",
       "        66007.66868,  86983.939  ,  97882.98831, 185352.1732 ,\n",
       "       100693.6069 ,  52086.1365 , 167407.783  , 129917.04   ,\n",
       "       134122.8826 ,  64672.41127,  70902.75824, 156122.51   ,\n",
       "       138213.2296 , 183093.4268 , 123648.4161 ,  88481.51178,\n",
       "       102771.2435 , 114373.3746 ,  98500.64098, 173336.5651 ,\n",
       "        75445.02546, 142852.0318 , 117700.8395 , 107019.6345 ,\n",
       "        82155.48418,  63662.63887, 150475.728  , 172769.3156 ,\n",
       "        88027.88306, 110352.25   , 171235.8626 ,  78153.1291 ,\n",
       "       141180.1836 ,  54300.45973, 111257.774  , 110963.8978 ,\n",
       "       182059.7343 ,  63924.90632,  76487.26093,  79796.7857 ,\n",
       "        94297.52743, 137719.4492 , 156935.8793 , 172615.5432 ,\n",
       "       118944.6878 ,  92485.57543, 124695.7773 , 117353.9972 ,\n",
       "        57258.01646, 125636.3521 ,  89583.54765,  71885.19331,\n",
       "       180633.922  , 184099.7821 ,  56991.47755,  90312.25819,\n",
       "       101028.4891 , 122954.7315 ,  88870.21435, 106018.405  ,\n",
       "       106169.6146 ,  74425.00156,  52276.64348, 154051.7917 ,\n",
       "        88710.46186, 140289.1577 , 141073.3972 , 168459.4156 ,\n",
       "       111764.3688 , 150024.6621 , 192261.83   , 171557.9304 ,\n",
       "       127075.833  , 181485.6505 , 133617.1421 , 101668.3534 ,\n",
       "       143415.8641 , 157591.1208 , 182098.1774 ,  50070.86316,\n",
       "       157979.8234 , 182202.4009 ,  80106.89347,  75270.75002,\n",
       "       148748.3508 , 173263.9503 ,  60869.96038,  51324.1086 ,\n",
       "       102619.1797 , 125467.2024 ,  54244.9308 , 163226.881  ,\n",
       "       105733.54   , 165987.9507 ,  80082.11902, 134983.154  ,\n",
       "        96581.04826, 182901.99   ,  94579.44358,  79794.22283,\n",
       "       100759.3874 , 119482.037  , 169673.3637 , 146499.0017 ,\n",
       "        57067.50948, 136575.5531 ,  67733.33725, 105503.2673 ,\n",
       "        92502.66126, 142869.1176 , 174414.6808 ,  63742.94226,\n",
       "        58963.18204,  80539.1649 , 101106.2297 , 162399.9269 ,\n",
       "        80504.99325,  99306.23774,  55091.53354, 175705.515  ,\n",
       "       153976.614  ,  91640.68127, 158338.6258 ,  55641.69719,\n",
       "       119961.2945 , 173343.3994 , 155752.6    , 126393.2542 ,\n",
       "        72870.19126,  72657.47271,  86750.71746,  88971.02073,\n",
       "        99277.19183, 182641.5067 , 171478.4813 , 104151.7784 ,\n",
       "       181946.9678 , 142712.7823 , 165584.7252 , 413956.48   ,\n",
       "        79513.16096, 114284.5283 , 165029.4358 ,  54060.40386,\n",
       "        95537.9585 ,  65085.034  ,  88302.96488, 162747.6235 ,\n",
       "       134894.3077 , 112487.9536 , 180783.423  , 107682.5646 ,\n",
       "       103243.6667 , 145965.9238 , 168285.1402 , 113981.2549 ,\n",
       "       152268.8856 , 135506.8346 , 169566.5772 ,  97340.51329,\n",
       "       102118.5649 , 142494.938  ,  65219.15775,  72735.21323,\n",
       "        98368.22581,  59225.44949, 125981.4858 ,  83632.55396,\n",
       "        64769.80049,  58223.36571,  91441.63138,  84552.62576,\n",
       "       103264.1697 , 161824.1346 , 100589.3834 , 166187.94   ,\n",
       "        95279.96251,  70555.91594, 133019.1381 , 136315.8485 ,\n",
       "        62531.55709,  91657.76709,  76376.20305, 170343.1281 ,\n",
       "        66357.07385,  91843.14832, 161488.398  , 162479.376  ,\n",
       "        55227.36587, 181243.886  , 150707.2409 , 109285.2152 ,\n",
       "       129480.6633 , 176833.1797 ,  94400.89669, 134307.35   ,\n",
       "       175166.4572 , 163525.0287 ,  74052.53052,  51003.74933,\n",
       "       103155.6747 ,  89558.7732 , 107704.7762 ,  61960.03617,\n",
       "       156545.4682 , 176839.1597 , 181579.6225 , 106517.3112 ,\n",
       "       115751.3466 ,  87112.08271, 101971.6268 , 178759.6067 ,\n",
       "       126992.93   ,  98464.76074,  79299.58812,  90108.93684,\n",
       "       176623.024  , 182028.1255 , 164713.348  ,  99032.8645 ,\n",
       "       173861.9543 ,  52225.38599,  58179.79685, 132915.7689 ,\n",
       "        85769.13667,  67473.63267, 146196.5825 ,  95148.40164,\n",
       "       109105.8141 ,  85976.72948,  65255.03798,  99322.46927,\n",
       "       152175.7678 , 152243.2568 , 178978.3053 , 185032.6682 ,\n",
       "       182911.4628 , 107382.7084 , 152920.7099 , 183945.1553 ,\n",
       "       138736.9103 ,  68705.52083, 131062.8109 , 121491.3304 ,\n",
       "       123228.959  , 133849.5093 , 104996.6726 , 101004.64   ,\n",
       "       122307.1786 , 139555.3214 , 152900.2069 , 161076.6296 ,\n",
       "       154539.592  , 155518.6099 , 137468.2876 , 161936.0467 ,\n",
       "       112054.8279 ,  99424.12995, 152894.2269 , 106433.5906 ,\n",
       "       181550.5766 ,  91139.21223,  90550.60548, 136050.1639 ,\n",
       "       164375.9029 , 128995.4258 , 147736.0156 , 148975.5923 ,\n",
       "       129642.9786 , 155424.6379 ,  80045.38449,  96778.92   ,\n",
       "        78406.85364,  65200.33   , 165941.819  , 114522.8756 ,\n",
       "        59803.80475,  94066.01447, 131659.9605 , 164884.2062 ,\n",
       "        67839.26938, 176432.517  , 153825.4044 , 122331.0988 ,\n",
       "       157690.2186 ,  56852.22806, 107669.7503 , 154901.8116 ,\n",
       "       164695.4079 , 177000.6208 , 184516.6762 , 171780.0462 ,\n",
       "       144038.6425 , 143061.3332 , 125667.9609 ,  61306.50327,\n",
       "       163470.354  , 149669.2769 ,  71376.03566, 124765.8292 ,\n",
       "       175906.2735 , 128265.0066 ,  63373.88839, 170547.3037 ,\n",
       "       184669.5944 ,  51286.51978, 119914.3085 ,  92903.32391,\n",
       "        79167.17296, 181258.409  , 134723.4494 , 127725.0945 ,\n",
       "       113188.4725 , 177717.3712 , 108552.04   ,  94320.5933 ,\n",
       "        53395.76517, 130689.4855 , 111461.9497 ,  92920.40974,\n",
       "        69109.60065,  84757.65569,  81169.63193, 102740.489  ,\n",
       "       142226.6905 ,  56138.89476, 141344.2075 , 127773.7891 ,\n",
       "       174421.5151 , 157493.7316 , 180524.5727 ,  82589.46419,\n",
       "        75968.70607, 135817.7966 , 115890.5961 , 132077.709  ,\n",
       "        84808.91317,  85830.64565,  74502.74207, 181929.0277 ,\n",
       "       165530.0505 ,  55623.75707,  91209.26412, 107404.34   ,\n",
       "       139016.2635 , 121505.8533 , 161423.4719 ,  77837.89559,\n",
       "       144820.3191 , 165119.1364 ,  64997.04199,  65513.03398,\n",
       "       112883.4905 ,  81580.54608, 168686.6571 ,  63093.68082,\n",
       "       134979.7368 ,  80804.84952, 118334.7237 ,  97238.85262,\n",
       "        77017.77587,  85101.93511, 122776.86   ,  60368.49134,\n",
       "       118265.5261 , 114970.5243 , 111422.6523 , 155954.2985 ,\n",
       "        77629.44849,  95065.53537, 120990.7156 , 116273.3187 ,\n",
       "        98129.02423,  65471.1737 , 161467.0408 ,  58784.63514,\n",
       "        73850.06347,  65181.56893,  97446.44542,  97599.36358,\n",
       "       160646.0668 ,  83444.60985, 159227.0888 , 122570.3004 ,\n",
       "        97427.84   , 168870.3298 , 184632.0056 , 160252.2384 ,\n",
       "       144259.4    ,  69758.98   , 166598.769  , 163028.6854 ,\n",
       "        90708.19   , 102489.3274 ,  72337.96774,  77798.83   ,\n",
       "       141273.3013 , 161008.2863 ,  97712.98433,  61393.64099,\n",
       "       109333.0556 , 163138.0347 ,  54991.58145, 161666.9449 ,\n",
       "       149190.8738 ,  99301.96628, 131574.5314 , 107910.6604 ,\n",
       "       129804.4397 ,  92362.55748, 108733.99   , 132471.5373 ,\n",
       "       108776.0576 ,  65204.63479, 145073.1894 , 136632.7906 ,\n",
       "       163549.8031 , 154029.5801 , 118130.5481 , 127248.3999 ,\n",
       "       149849.5324 ,  64966.2875 , 173897.8345 ,  95260.31381,\n",
       "       116685.0871 , 109663.6663 , 114403.2748 ,  74477.11333,\n",
       "       167412.0544 , 171416.9724 , 110682.8359 , 177675.5109 ,\n",
       "        79710.50227, 145877.9318 , 160842.5538 ,  97955.60308,\n",
       "       144807.5047 ,  50994.35213, 127909.6214 , 141814.0678 ,\n",
       "       126846.883  , 182316.0217 ,  55771.54948,  76644.45054,\n",
       "        86101.45602, 178847.5987 ,  95178.30183,  42559.73   ,\n",
       "       141408.2794 ,  70244.95388, 121482.7874 ,  52731.98078,\n",
       "       185068.5485 , 130070.1243 , 154190.1869 ,  59636.36364,\n",
       "        57463.90068, 142575.2414 ,  56788.15621, 114839.8177 ,\n",
       "       109278.3809 , 172901.7308 ,  50428.81124, 181512.1335 ,\n",
       "       171985.0761 , 169169.3318 ,  68719.18949,  88737.79919,\n",
       "       161783.1286 , 162440.0786 ,  71498.49   , 179522.4889 ,\n",
       "        64574.16776, 121248.7116 , 168802.8408 ,  65868.41919,\n",
       "       141832.0079 , 148158.0355 , 116260.5043 , 104976.1696 ,\n",
       "       140522.3792 , 163673.6754 , 128986.8828 , 140964.9022 ,\n",
       "       103282.38   ,  54205.63339,  53649.48971,  90544.62544,\n",
       "        96214.55727,  59784.15604, 169324.8128 ,  53225.76119,\n",
       "        98808.18587,  99906.80457,  77132.25091, 159613.2285 ,\n",
       "       139915.8323 , 130602.3478 , 168876.3098 , 185028.3968 ,\n",
       "        84378.35032, 169431.5992 , 153627.2089 ,  87045.44798,\n",
       "       105457.9899 , 151150.6182 , 169314.5613 ,  88592.56966,\n",
       "        87309.42402,  97372.12207,  88082.55771,  56789.0105 ,\n",
       "       121248.7116 , 154356.7737 , 103813.479  , 172966.6569 ,\n",
       "       105333.2634 , 150516.734  , 108629.9738 ,  71717.75221,\n",
       "       185272.7241 ,  90808.60147, 125271.5697 , 102990.7964 ,\n",
       "       144203.5207 , 117043.8895 ,  70232.13951, 123814.1486 ,\n",
       "        53177.92087,  51671.80519, 167257.4277 ,  82484.38635,\n",
       "       162182.9369 , 140870.0758 ,  51276.26828, 146925.293  ,\n",
       "        87716.921  , 149759.96   , 128195.809  , 120345.7256 ,\n",
       "       182979.8061 , 143338.9779 ,  94376.97653,  68575.66854,\n",
       "       106070.5168 , 144805.7962 ])"
      ]
     },
     "execution_count": 85,
     "metadata": {},
     "output_type": "execute_result"
    }
   ],
   "source": [
    "y_train"
   ]
  },
  {
   "cell_type": "code",
   "execution_count": 109,
   "metadata": {},
   "outputs": [
    {
     "data": {
      "text/plain": [
       "array([ 89012.02672,  87654.55773,  94093.35179, 175396.2616 ,\n",
       "        83356.61784, 110395.794  , 105008.31   ,  90687.2921 ,\n",
       "       164180.2702 ,  53483.75718,  66273.3533 , 150393.716  ,\n",
       "       125971.2343 ,  58694.93455, 176344.525  ,  75297.23305,\n",
       "       118219.3944 , 163462.6654 , 132602.65   , 181574.4968 ,\n",
       "        97483.56   ,  84909.71956, 180684.3252 ,  83391.64379,\n",
       "       104159.467  , 100404.0021 ,  64926.08   ,  56944.49153,\n",
       "        68210.88613, 191792.06   , 120738.6997 , 110848.5685 ,\n",
       "       101352.2656 , 137842.4672 ,  63306.39937, 107994.381  ,\n",
       "       185502.5285 , 171176.9165 , 174364.2776 , 117645.3106 ,\n",
       "        96616.9285 , 164336.6055 , 106865.8621 ,  50468.96294,\n",
       "       116492.8715 ,  57992.70704, 158208.7735 ,  78689.62408,\n",
       "       159514.1307 , 131051.7051 , 184555.1194 , 174329.2516 ,\n",
       "        92949.45565,  78308.61013, 180257.1795 ,  84583.38025,\n",
       "       142762.3312 , 170174.8327 ,  84305.73556, 105154.7165 ,\n",
       "       141527.0259 ,  52609.81711, 140832.487  , 138872.7426 ,\n",
       "        97478.0542 , 113578.8837 , 126506.0207 , 151774.2509 ,\n",
       "        58918.75889, 174007.1838 , 123690.2763 , 167934.0264 ,\n",
       "        91370.72519, 155791.1289 ,  83553.10486,  77847.29279,\n",
       "       120375.6258 ,  93280.9207 , 138022.7227 , 142586.3472 ,\n",
       "       170883.8945 , 139080.3354 , 106212.3292 , 154569.4922 ,\n",
       "       139722.7625 , 109998.5485 ,  68984.01982,  88072.30621,\n",
       "       139130.7386 , 148134.1153 , 157529.6118 ,  57893.60924,\n",
       "        93606.40571, 112642.5803 ,  56620.7151 , 107252.8561 ,\n",
       "       147194.3948 , 151782.7938 , 167377.0285 , 117842.6519 ,\n",
       "       120723.3224 , 138908.6228 , 157142.6178 , 121916.7675 ,\n",
       "        87019.81924, 104824.1057 ,  95226.99644, 177911.2954 ,\n",
       "       180753.5228 , 109658.5406 , 164139.2642 , 166679.9267 ,\n",
       "       157615.041  , 174320.7087 , 169059.9825 ,  51690.5996 ,\n",
       "       175771.2955 , 103906.5968 ,  81963.26862, 138588.2636 ,\n",
       "       144130.0517 , 161456.7893 , 169404.2619 , 120412.3603 ,\n",
       "       158670.9451 , 109344.1613 , 169235.1122 ,  60111.34964,\n",
       "       157949.9232 , 157086.2346 , 174050.7527 , 155915.0011 ,\n",
       "       102873.7585 ,  85570.94108, 140594.1397 , 165495.0246 ,\n",
       "       121140.2166 , 152211.77   , 100556.066  ,  82229.80752,\n",
       "       177468.7724 , 100958.4372 ,  70509.78421,  90164.46578,\n",
       "        61291.12602,  68921.65655,  72949.64036, 175747.3753 ,\n",
       "        89803.10053,  96712.8    ,  92758.09438,  99937.59   ,\n",
       "       171687.7827 ,  60243.7648 , 168760.9805 , 165330.1463 ,\n",
       "       165186.6254 , 102213.3913 , 181102.0736 ,  73872.27504,\n",
       "        90482.26217, 134808.0242 ,  64950.05596,  71772.42685,\n",
       "        60650.40749, 183965.6583 , 175999.3913 , 158516.3184 ,\n",
       "       141046.0598 , 154238.8815 ,  58605.23395,  90712.92084,\n",
       "       152520.9015 , 168145.8907 ,  72478.92582, 116045.2229 ,\n",
       "        80229.05713, 149477.9157 , 116603.0751 , 129232.9188 ,\n",
       "       174254.9283 , 476485.43   , 145240.6305 , 150292.0553 ,\n",
       "        86221.9111 ,  70153.5447 ,  70282.5427 ,  68347.57275,\n",
       "       120445.6777 ,  89594.65343, 166579.1203 , 124577.0308 ,\n",
       "        67226.74247, 156991.12   , 117637.622  , 164779.9827 ,\n",
       "       168402.1781 , 145976.1753 , 141082.7944 , 108917.0157 ,\n",
       "        81824.87341, 156340.4382 , 135591.4094 ,  60065.21791,\n",
       "       142927.2094 , 175826.8244 ,  87219.72342, 135641.8126 ,\n",
       "       169403.4076 ,  94974.98049, 136286.8026 , 126058.372  ,\n",
       "        89949.14   ,  71235.93187, 166415.9507 , 138841.9881 ,\n",
       "       126993.8211 , 137670.7546 ,  78239.91   , 129889.8688 ,\n",
       "       169745.1241 , 108896.5127 , 123671.4819 , 117289.0711 ,\n",
       "        59981.49735, 126295.865  , 178552.8682 ,  54119.34996,\n",
       "       124266.9    , 172937.611  ,  69995.5008 , 151992.0952 ,\n",
       "       134268.9664 ,  59766.21593,  85842.60573,  84782.43014,\n",
       "        98397.27172,  76229.26494, 127455.1384 , 110228.3529 ,\n",
       "        59342.48741, 101119.044  , 146874.0356 , 158160.0789 ,\n",
       "       161035.6236 , 184979.7022 ,  55832.20416, 191050.39   ,\n",
       "        67282.27141, 163155.1205 ])"
      ]
     },
     "execution_count": 109,
     "metadata": {},
     "output_type": "execute_result"
    }
   ],
   "source": [
    "y_test"
   ]
  },
  {
   "cell_type": "code",
   "execution_count": 110,
   "metadata": {},
   "outputs": [
    {
     "data": {
      "text/plain": [
       "LinearRegression(copy_X=True, fit_intercept=True, n_jobs=None, normalize=False)"
      ]
     },
     "execution_count": 110,
     "metadata": {},
     "output_type": "execute_result"
    }
   ],
   "source": [
    "#fitting the training data into linear regression\n",
    "from sklearn.linear_model import LinearRegression\n",
    "lr=LinearRegression()\n",
    "lr.fit(X_train, y_train)"
   ]
  },
  {
   "cell_type": "code",
   "execution_count": 111,
   "metadata": {},
   "outputs": [
    {
     "data": {
      "text/plain": [
       "array([ 89602.23052111,  88239.80201614,  94702.12002985, 175509.74442671,\n",
       "        83461.77749735, 110599.74053966, 131948.85577937,  91283.61641448,\n",
       "       164580.71663692,  53151.83628338,  66780.48203841, 150415.85279943,\n",
       "       126696.46745134,  59174.37574826, 177253.79545623,  75372.9480624 ,\n",
       "       118123.9832721 , 164324.87239863, 172648.99037   , 182038.49259395,\n",
       "       121264.52583036,  85484.93573297, 180817.12779826,  83961.31367629,\n",
       "       104805.01158595, 101035.8261546 ,  55003.82567286,  56953.15534906,\n",
       "        68725.09361289, 210505.51620949, 120652.49268841, 111518.5513944 ,\n",
       "       101523.1718271 , 137818.74835243,  63802.68839172, 108653.93623663,\n",
       "       185980.87518202, 171274.98401878, 174473.99007598, 117547.80200509,\n",
       "        96770.53433932, 165202.00538582, 107521.29431353,  50126.02756978,\n",
       "       116391.15260094,  58469.58267851, 158259.46233249,  78449.79206775,\n",
       "       159569.58862317, 131003.17642491, 184702.06381636, 174438.83622507,\n",
       "        93554.04471704,  78395.32707752, 180716.36250724,  84365.08094288,\n",
       "       142756.58697364, 170597.18020495,  84414.36283371, 105339.51490539,\n",
       "       141516.76846478,  52602.64426818, 141612.01526368, 139180.72882279,\n",
       "        98099.188342  , 113466.51858438, 126768.82540854, 152129.37233126,\n",
       "        58934.63562783, 174115.59169549, 124407.17613441, 168812.56945363,\n",
       "        91177.22325606, 156160.92591688,  84123.36465417,  77932.32437946,\n",
       "       120288.09240474,  93422.33851611, 138791.98555435, 143372.2831309 ,\n",
       "       170980.8915376 , 139853.4622488 , 106400.99150949, 155399.20829409,\n",
       "       140033.85422825, 110201.04375124,  69501.05190717,  88194.69454458,\n",
       "       139904.04960041, 148475.93766735, 157905.76038407,  58370.12283588,\n",
       "        93749.01267036, 112526.79445988,  56628.19596301, 107445.31994123,\n",
       "       147204.84295654, 152137.94650262, 167789.15420131, 118538.18756006,\n",
       "       120637.05927805, 138888.79912789, 157517.352529  , 121834.86452663,\n",
       "        87138.36231681, 104679.75522214,  95375.52417161, 178361.90777449,\n",
       "       181678.90137392, 109859.79353278, 165003.94312053, 167553.88782973,\n",
       "       157991.50158659, 174758.20302569, 169942.63908789,  52144.45063994,\n",
       "       176678.47170574, 104551.21742236,  82527.71995299, 138895.21042263,\n",
       "       144129.30432162, 161519.34467466, 169495.85313719, 120324.96111832,\n",
       "       158723.32244639, 110008.64798609, 169654.02637577,  60595.96567864,\n",
       "       158791.98956573, 157925.14552223, 174487.26068974, 156285.25076534,\n",
       "       103514.60573581,  85684.1907268 , 141372.79717462, 165900.27453547,\n",
       "       121055.47661801, 171909.81507796, 100396.12241561,  82002.90946494,\n",
       "       178382.1503285 , 101592.28689071,  70568.00837067,  90294.49777792,\n",
       "        61315.67012841,  68974.07853216,  72688.83750533, 176654.46412402,\n",
       "        89603.87128427, 131181.03089882,  92569.66114526,  88205.43292859,\n",
       "       172580.0399423 ,  60728.86461121, 168850.22149387, 166199.17608028,\n",
       "       165262.80758161, 102059.50263044, 181564.34344602,  73614.84299179,\n",
       "        91077.83741434, 135565.54240176,  64987.96782115,  71835.26407559,\n",
       "        60672.61076979, 184110.449139  , 176115.07765177, 158896.07176984,\n",
       "       141361.98620781, 154603.0074458 ,  58619.96517926,  90517.01563888,\n",
       "       152878.75085565, 168232.88447278,  72544.34418172, 115941.86846091,\n",
       "        79994.84941732, 149824.64752395, 116829.69978334, 129970.06834121,\n",
       "       174364.24130206, 301982.85404822, 146036.26375519, 150641.76165234,\n",
       "        86009.59805299,  69882.52635403,  70011.99566917,  68862.27958287,\n",
       "       120686.34117921,  89722.60363144, 166660.3900175 , 125297.17025345,\n",
       "        67272.97217759, 138967.79362675, 118332.40855992, 165647.00248534,\n",
       "       168490.10826104, 146774.49592006, 141398.85491106, 109115.55947507,\n",
       "        82388.81913067, 156384.30121434, 136351.7896294 ,  60549.66537269,\n",
       "       143250.00853783, 176734.20352404,  87338.99685028, 136402.37697069,\n",
       "       169494.99571102,  95122.58752453, 137049.72337601, 126319.54126851,\n",
       "        32386.39052014,  70968.86805637, 166824.56515926, 138821.92095007,\n",
       "       127258.40796684, 137646.40843087,  82615.68798048, 130629.41862257,\n",
       "       169837.96068114, 108767.04062605, 123595.98982002, 117518.20202275,\n",
       "        60465.6389363 , 126557.90194172, 179470.20679283,  53789.75117428,\n",
       "       123541.9564964 , 173042.11121535,  70051.84605281, 152020.07158163,\n",
       "       134560.13282799,  60249.5709935 ,  85628.90693279,  84892.79903248,\n",
       "        98557.38197643,  76308.38505605, 128185.79299294, 110431.68766894,\n",
       "        59824.29442899, 101753.48044242, 147675.63647864, 159002.91304288,\n",
       "       161424.58126617, 185456.13877282,  55836.80426663, 155812.50365682,\n",
       "        67328.70399588, 164016.20393326])"
      ]
     },
     "execution_count": 111,
     "metadata": {},
     "output_type": "execute_result"
    }
   ],
   "source": [
    "#predicting the x_test data\n",
    "y_pred=lr.predict(X_test)\n",
    "y_pred"
   ]
  },
  {
   "cell_type": "code",
   "execution_count": 112,
   "metadata": {},
   "outputs": [
    {
     "data": {
      "text/plain": [
       "array([-7.92323210e+02, -4.64382238e+02,  5.24699015e-01,  9.03445439e-01,\n",
       "        1.03284926e-01])"
      ]
     },
     "execution_count": 112,
     "metadata": {},
     "output_type": "execute_result"
    }
   ],
   "source": [
    "#calculating the coefficient\n",
    "lr.coef_"
   ]
  },
  {
   "cell_type": "code",
   "execution_count": 113,
   "metadata": {},
   "outputs": [
    {
     "data": {
      "text/plain": [
       "-57418.75678547408"
      ]
     },
     "execution_count": 113,
     "metadata": {},
     "output_type": "execute_result"
    }
   ],
   "source": [
    "#calculating the intercept\n",
    "lr.intercept_"
   ]
  },
  {
   "cell_type": "code",
   "execution_count": 116,
   "metadata": {},
   "outputs": [
    {
     "name": "stdout",
     "output_type": "stream",
     "text": [
      "161825280.1398816\n"
     ]
    }
   ],
   "source": [
    "#calculating mean square error\n",
    "from sklearn.metrics import mean_squared_error\n",
    "mse=mean_squared_error(y_test,y_pred).mean()\n",
    "print(mse)"
   ]
  },
  {
   "cell_type": "code",
   "execution_count": 117,
   "metadata": {},
   "outputs": [
    {
     "data": {
      "text/plain": [
       "0.9209536193310021"
      ]
     },
     "execution_count": 117,
     "metadata": {},
     "output_type": "execute_result"
    }
   ],
   "source": [
    "#calculating the R squared error\n",
    "from sklearn.metrics import r2_score\n",
    "r2_score(y_test,y_pred)"
   ]
  },
  {
   "cell_type": "code",
   "execution_count": null,
   "metadata": {},
   "outputs": [],
   "source": []
  }
 ],
 "metadata": {
  "kernelspec": {
   "display_name": "Python 3",
   "language": "python",
   "name": "python3"
  },
  "language_info": {
   "codemirror_mode": {
    "name": "ipython",
    "version": 3
   },
   "file_extension": ".py",
   "mimetype": "text/x-python",
   "name": "python",
   "nbconvert_exporter": "python",
   "pygments_lexer": "ipython3",
   "version": "3.7.4"
  }
 },
 "nbformat": 4,
 "nbformat_minor": 2
}
